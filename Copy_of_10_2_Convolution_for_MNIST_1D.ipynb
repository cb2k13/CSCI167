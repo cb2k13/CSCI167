{
  "nbformat": 4,
  "nbformat_minor": 0,
  "metadata": {
    "colab": {
      "provenance": []
    },
    "kernelspec": {
      "name": "python3",
      "display_name": "Python 3"
    },
    "language_info": {
      "name": "python"
    }
  },
  "cells": [
    {
      "cell_type": "markdown",
      "source": [
        "# **Notebook 10.2: Convolution for MNIST-1D**\n",
        "\n",
        "This notebook investigates a 1D convolutional network for MNIST-1D as in figure 10.7 and 10.8a.\n",
        "\n",
        "Work through the cells below, running each cell in turn. In various places you will see the words \"TODO\". Follow the instructions at these places and make predictions about what is going to happen or write code to complete the functions.\n",
        "\n",
        "Contact me at udlbookmail@gmail.com if you find any mistakes or have any suggestions.\n",
        "\n"
      ],
      "metadata": {
        "id": "t9vk9Elugvmi"
      }
    },
    {
      "cell_type": "code",
      "source": [
        "# Run this if you're in a Colab to install MNIST 1D repository\n",
        "!pip install git+https://github.com/greydanus/mnist1d"
      ],
      "metadata": {
        "id": "D5yLObtZCi9J",
        "colab": {
          "base_uri": "https://localhost:8080/"
        },
        "outputId": "fd1a14ea-98dd-469b-9ab6-4526f74bc5ee"
      },
      "execution_count": 2,
      "outputs": [
        {
          "output_type": "stream",
          "name": "stdout",
          "text": [
            "Collecting git+https://github.com/greydanus/mnist1d\n",
            "  Cloning https://github.com/greydanus/mnist1d to /tmp/pip-req-build-sctukgaq\n",
            "  Running command git clone --filter=blob:none --quiet https://github.com/greydanus/mnist1d /tmp/pip-req-build-sctukgaq\n",
            "  Resolved https://github.com/greydanus/mnist1d to commit 7878d96082abd200c546a07a4101fa90b30fdf7e\n",
            "  Installing build dependencies ... \u001b[?25l\u001b[?25hdone\n",
            "  Getting requirements to build wheel ... \u001b[?25l\u001b[?25hdone\n",
            "  Preparing metadata (pyproject.toml) ... \u001b[?25l\u001b[?25hdone\n",
            "Requirement already satisfied: requests in /usr/local/lib/python3.12/dist-packages (from mnist1d==0.0.2.post16) (2.32.4)\n",
            "Requirement already satisfied: numpy in /usr/local/lib/python3.12/dist-packages (from mnist1d==0.0.2.post16) (2.0.2)\n",
            "Requirement already satisfied: matplotlib in /usr/local/lib/python3.12/dist-packages (from mnist1d==0.0.2.post16) (3.10.0)\n",
            "Requirement already satisfied: scipy in /usr/local/lib/python3.12/dist-packages (from mnist1d==0.0.2.post16) (1.16.3)\n",
            "Requirement already satisfied: contourpy>=1.0.1 in /usr/local/lib/python3.12/dist-packages (from matplotlib->mnist1d==0.0.2.post16) (1.3.3)\n",
            "Requirement already satisfied: cycler>=0.10 in /usr/local/lib/python3.12/dist-packages (from matplotlib->mnist1d==0.0.2.post16) (0.12.1)\n",
            "Requirement already satisfied: fonttools>=4.22.0 in /usr/local/lib/python3.12/dist-packages (from matplotlib->mnist1d==0.0.2.post16) (4.60.1)\n",
            "Requirement already satisfied: kiwisolver>=1.3.1 in /usr/local/lib/python3.12/dist-packages (from matplotlib->mnist1d==0.0.2.post16) (1.4.9)\n",
            "Requirement already satisfied: packaging>=20.0 in /usr/local/lib/python3.12/dist-packages (from matplotlib->mnist1d==0.0.2.post16) (25.0)\n",
            "Requirement already satisfied: pillow>=8 in /usr/local/lib/python3.12/dist-packages (from matplotlib->mnist1d==0.0.2.post16) (11.3.0)\n",
            "Requirement already satisfied: pyparsing>=2.3.1 in /usr/local/lib/python3.12/dist-packages (from matplotlib->mnist1d==0.0.2.post16) (3.2.5)\n",
            "Requirement already satisfied: python-dateutil>=2.7 in /usr/local/lib/python3.12/dist-packages (from matplotlib->mnist1d==0.0.2.post16) (2.9.0.post0)\n",
            "Requirement already satisfied: charset_normalizer<4,>=2 in /usr/local/lib/python3.12/dist-packages (from requests->mnist1d==0.0.2.post16) (3.4.4)\n",
            "Requirement already satisfied: idna<4,>=2.5 in /usr/local/lib/python3.12/dist-packages (from requests->mnist1d==0.0.2.post16) (3.11)\n",
            "Requirement already satisfied: urllib3<3,>=1.21.1 in /usr/local/lib/python3.12/dist-packages (from requests->mnist1d==0.0.2.post16) (2.5.0)\n",
            "Requirement already satisfied: certifi>=2017.4.17 in /usr/local/lib/python3.12/dist-packages (from requests->mnist1d==0.0.2.post16) (2025.10.5)\n",
            "Requirement already satisfied: six>=1.5 in /usr/local/lib/python3.12/dist-packages (from python-dateutil>=2.7->matplotlib->mnist1d==0.0.2.post16) (1.17.0)\n",
            "Building wheels for collected packages: mnist1d\n",
            "  Building wheel for mnist1d (pyproject.toml) ... \u001b[?25l\u001b[?25hdone\n",
            "  Created wheel for mnist1d: filename=mnist1d-0.0.2.post16-py3-none-any.whl size=14665 sha256=84cc3cc672f2c3f504c4b01a7f5ef8f2e5c5f813cc8dcc0b3d746b5ea166444d\n",
            "  Stored in directory: /tmp/pip-ephem-wheel-cache-pxbfi_cv/wheels/18/40/b6/29381fee9b4c80fdbc304d52bb065a7286bbcca5ca2b8737c0\n",
            "Successfully built mnist1d\n",
            "Installing collected packages: mnist1d\n",
            "Successfully installed mnist1d-0.0.2.post16\n"
          ]
        }
      ]
    },
    {
      "cell_type": "code",
      "source": [
        "import numpy as np\n",
        "import os\n",
        "import torch, torch.nn as nn\n",
        "from torch.utils.data import TensorDataset, DataLoader\n",
        "from torch.optim.lr_scheduler import StepLR\n",
        "import matplotlib.pyplot as plt\n",
        "import mnist1d\n",
        "import random"
      ],
      "metadata": {
        "id": "YrXWAH7sUWvU"
      },
      "execution_count": 3,
      "outputs": []
    },
    {
      "cell_type": "code",
      "source": [
        "args = mnist1d.data.get_dataset_args()\n",
        "data = mnist1d.data.get_dataset(args, path='./mnist1d_data.pkl', download=False, regenerate=False)\n",
        "\n",
        "# The training and test input and outputs are in\n",
        "# data['x'], data['y'], data['x_test'], and data['y_test']\n",
        "print(\"Examples in training set: {}\".format(len(data['y'])))\n",
        "print(\"Examples in test set: {}\".format(len(data['y_test'])))\n",
        "print(\"Length of each example: {}\".format(data['x'].shape[-1]))"
      ],
      "metadata": {
        "id": "twI72ZCrCt5z",
        "colab": {
          "base_uri": "https://localhost:8080/"
        },
        "outputId": "d2c6ddb4-14a3-46af-8049-67e4a039e446"
      },
      "execution_count": 4,
      "outputs": [
        {
          "output_type": "stream",
          "name": "stdout",
          "text": [
            "Did or could not load data from ./mnist1d_data.pkl. Rebuilding dataset...\n",
            "Examples in training set: 4000\n",
            "Examples in test set: 1000\n",
            "Length of each example: 40\n"
          ]
        }
      ]
    },
    {
      "cell_type": "code",
      "source": [
        "# Load in the data\n",
        "train_data_x = data['x'].transpose()\n",
        "train_data_y = data['y']\n",
        "val_data_x = data['x_test'].transpose()\n",
        "val_data_y = data['y_test']\n",
        "# Print out sizes\n",
        "print(\"Train data: %d examples (columns), each of which has %d dimensions (rows)\"%((train_data_x.shape[1],train_data_x.shape[0])))\n",
        "print(\"Validation data: %d examples (columns), each of which has %d dimensions (rows)\"%((val_data_x.shape[1],val_data_x.shape[0])))"
      ],
      "metadata": {
        "id": "8bKADvLHbiV5",
        "colab": {
          "base_uri": "https://localhost:8080/"
        },
        "outputId": "34d1cf08-d528-426b-847c-b3a402285ec2"
      },
      "execution_count": 5,
      "outputs": [
        {
          "output_type": "stream",
          "name": "stdout",
          "text": [
            "Train data: 4000 examples (columns), each of which has 40 dimensions (rows)\n",
            "Validation data: 1000 examples (columns), each of which has 40 dimensions (rows)\n"
          ]
        }
      ]
    },
    {
      "cell_type": "markdown",
      "source": [
        "Define the network"
      ],
      "metadata": {
        "id": "_sFvRDGrl4qe"
      }
    },
    {
      "cell_type": "code",
      "source": [
        "# There are 40 input dimensions and 10 output dimensions for this data\n",
        "# The inputs correspond to the 40 offsets in the MNIST1D template.\n",
        "D_i = 40\n",
        "# The outputs correspond to the 10 digits\n",
        "D_o = 10\n",
        "\n",
        "\n",
        "# TODO Create a model with the following layers\n",
        "# 1. Convolutional layer, (input=length 40 and 1 channel, kernel size 3, stride 2, padding=\"valid\", 15 output channels )\n",
        "# 2. ReLU\n",
        "# 3. Convolutional layer, (input=length 19 and 15 channels, kernel size 3, stride 2, padding=\"valid\", 15 output channels )\n",
        "# 4. ReLU\n",
        "# 5. Convolutional layer, (input=length 9 and 15 channels, kernel size 3, stride 2, padding=\"valid\", 15 output channels)\n",
        "# 6. ReLU\n",
        "# 7. Flatten (converts 4x15) to length 60\n",
        "# 8. Linear layer (input size = 60, output size = 10)\n",
        "# References:\n",
        "# https://pytorch.org/docs/1.13/generated/torch.nn.Conv1d.html?highlight=conv1d#torch.nn.Conv1d\n",
        "# https://pytorch.org/docs/stable/generated/torch.nn.Flatten.html\n",
        "# https://pytorch.org/docs/1.13/generated/torch.nn.Linear.html?highlight=linear#torch.nn.Linear\n",
        "\n",
        "# NOTE THAT THE CONVOLUTIONAL LAYERS NEED TO TAKE THE NUMBER OF INPUT CHANNELS AS A PARAMETER\n",
        "# AND NOT THE INPUT SIZE.\n",
        "\n",
        "# Replace the following function:\n",
        "model = nn.Sequential(\n",
        "    # 1st Conv layer\n",
        "    nn.Conv1d(in_channels=1, out_channels=15, kernel_size=3, stride=2, padding=0),\n",
        "    nn.ReLU(),\n",
        "\n",
        "    # 2nd Conv layer\n",
        "    nn.Conv1d(in_channels=15, out_channels=15, kernel_size=3, stride=2, padding=0),\n",
        "    nn.ReLU(),\n",
        "\n",
        "    # 3rd Conv layer\n",
        "    nn.Conv1d(in_channels=15, out_channels=15, kernel_size=3, stride=2, padding=0),\n",
        "    nn.ReLU(),\n",
        "\n",
        "    # Flatten 4×15 = 60\n",
        "    nn.Flatten(),\n",
        "\n",
        "    # Fully connected layer\n",
        "    nn.Linear(60, 10)\n",
        ")\n",
        "\n",
        "\n",
        "\n"
      ],
      "metadata": {
        "id": "FslroPJJffrh"
      },
      "execution_count": 6,
      "outputs": []
    },
    {
      "cell_type": "code",
      "source": [
        "# He initialization of weights\n",
        "def weights_init(layer_in):\n",
        "  if isinstance(layer_in, nn.Linear):\n",
        "    nn.init.kaiming_uniform_(layer_in.weight)\n",
        "    layer_in.bias.data.fill_(0.0)"
      ],
      "metadata": {
        "id": "YgLaex1pfhqz"
      },
      "execution_count": 7,
      "outputs": []
    },
    {
      "cell_type": "code",
      "source": [
        "# choose cross entropy loss function (equation 5.24 in the loss notes)\n",
        "loss_function = nn.CrossEntropyLoss()\n",
        "# construct SGD optimizer and initialize learning rate and momentum\n",
        "optimizer = torch.optim.SGD(model.parameters(), lr = 0.05, momentum=0.9)\n",
        "# object that decreases learning rate by half every 20 epochs\n",
        "scheduler = StepLR(optimizer, step_size=20, gamma=0.5)\n",
        "# create 100 dummy data points and store in data loader class\n",
        "x_train = torch.tensor(train_data_x.transpose().astype('float32'))\n",
        "y_train = torch.tensor(train_data_y.astype('long')).long()\n",
        "x_val= torch.tensor(val_data_x.transpose().astype('float32'))\n",
        "y_val = torch.tensor(val_data_y.astype('long')).long()\n",
        "\n",
        "# load the data into a class that creates the batches\n",
        "data_loader = DataLoader(TensorDataset(x_train,y_train), batch_size=100, shuffle=True, worker_init_fn=np.random.seed(1))\n",
        "\n",
        "# Initialize model weights\n",
        "model.apply(weights_init)\n",
        "\n",
        "# loop over the dataset n_epoch times\n",
        "n_epoch = 100\n",
        "# store the loss and the % correct at each epoch\n",
        "losses_train = np.zeros((n_epoch))\n",
        "errors_train = np.zeros((n_epoch))\n",
        "losses_val = np.zeros((n_epoch))\n",
        "errors_val = np.zeros((n_epoch))\n",
        "\n",
        "for epoch in range(n_epoch):\n",
        "  # loop over batches\n",
        "  for i, data in enumerate(data_loader):\n",
        "    # retrieve inputs and labels for this batch\n",
        "    x_batch, y_batch = data\n",
        "    # zero the parameter gradients\n",
        "    optimizer.zero_grad()\n",
        "    # forward pass -- calculate model output\n",
        "    pred = model(x_batch[:,None,:])\n",
        "    # compute the loss\n",
        "    loss = loss_function(pred, y_batch)\n",
        "    # backward pass\n",
        "    loss.backward()\n",
        "    # SGD update\n",
        "    optimizer.step()\n",
        "\n",
        "  # Run whole dataset to get statistics -- normally wouldn't do this\n",
        "  pred_train = model(x_train[:,None,:])\n",
        "  pred_val = model(x_val[:,None,:])\n",
        "  _, predicted_train_class = torch.max(pred_train.data, 1)\n",
        "  _, predicted_val_class = torch.max(pred_val.data, 1)\n",
        "  errors_train[epoch] = 100 - 100 * (predicted_train_class == y_train).float().sum() / len(y_train)\n",
        "  errors_val[epoch]= 100 - 100 * (predicted_val_class == y_val).float().sum() / len(y_val)\n",
        "  losses_train[epoch] = loss_function(pred_train, y_train).item()\n",
        "  losses_val[epoch]= loss_function(pred_val, y_val).item()\n",
        "  print(f'Epoch {epoch:5d}, train loss {losses_train[epoch]:.6f}, train error {errors_train[epoch]:3.2f},  val loss {losses_val[epoch]:.6f}, percent error {errors_val[epoch]:3.2f}')\n",
        "\n",
        "  # tell scheduler to consider updating learning rate\n",
        "  scheduler.step()\n",
        "\n",
        "# Plot the results\n",
        "fig, ax = plt.subplots()\n",
        "ax.plot(errors_train,'r-',label='train')\n",
        "ax.plot(errors_val,'b-',label='validation')\n",
        "ax.set_ylim(0,100); ax.set_xlim(0,n_epoch)\n",
        "ax.set_xlabel('Epoch'); ax.set_ylabel('Error')\n",
        "ax.set_title('Part I: Validation Result %3.2f'%(errors_val[-1]))\n",
        "ax.legend()\n",
        "plt.show()"
      ],
      "metadata": {
        "id": "NYw8I_3mmX5c",
        "colab": {
          "base_uri": "https://localhost:8080/",
          "height": 1000
        },
        "outputId": "33823aca-2700-450f-f78e-c3421f5e50ec"
      },
      "execution_count": 8,
      "outputs": [
        {
          "output_type": "stream",
          "name": "stdout",
          "text": [
            "Epoch     0, train loss 1.720630, train error 69.18,  val loss 1.746770, percent error 72.30\n",
            "Epoch     1, train loss 1.433191, train error 56.58,  val loss 1.440590, percent error 58.90\n",
            "Epoch     2, train loss 1.385585, train error 55.22,  val loss 1.404348, percent error 57.60\n",
            "Epoch     3, train loss 1.266696, train error 50.65,  val loss 1.278870, percent error 51.70\n",
            "Epoch     4, train loss 1.223603, train error 50.25,  val loss 1.259516, percent error 52.20\n",
            "Epoch     5, train loss 1.031256, train error 39.80,  val loss 1.061255, percent error 41.90\n",
            "Epoch     6, train loss 0.919443, train error 34.88,  val loss 0.965735, percent error 37.10\n",
            "Epoch     7, train loss 0.865809, train error 34.32,  val loss 0.947585, percent error 39.70\n",
            "Epoch     8, train loss 0.782032, train error 30.88,  val loss 0.863708, percent error 33.40\n",
            "Epoch     9, train loss 0.675331, train error 25.97,  val loss 0.754580, percent error 29.80\n",
            "Epoch    10, train loss 0.594427, train error 21.88,  val loss 0.655207, percent error 23.90\n",
            "Epoch    11, train loss 0.471158, train error 17.22,  val loss 0.582523, percent error 21.20\n",
            "Epoch    12, train loss 0.419433, train error 15.47,  val loss 0.526682, percent error 20.50\n",
            "Epoch    13, train loss 0.409043, train error 15.18,  val loss 0.510054, percent error 18.30\n",
            "Epoch    14, train loss 0.357591, train error 12.60,  val loss 0.463066, percent error 16.80\n",
            "Epoch    15, train loss 0.310750, train error 10.95,  val loss 0.420440, percent error 15.70\n",
            "Epoch    16, train loss 0.330292, train error 11.85,  val loss 0.467811, percent error 17.00\n",
            "Epoch    17, train loss 0.328793, train error 11.22,  val loss 0.437552, percent error 14.90\n",
            "Epoch    18, train loss 0.271845, train error 10.18,  val loss 0.464619, percent error 14.70\n",
            "Epoch    19, train loss 0.275583, train error 9.80,  val loss 0.406095, percent error 14.00\n",
            "Epoch    20, train loss 0.180156, train error 5.95,  val loss 0.346821, percent error 11.90\n",
            "Epoch    21, train loss 0.179914, train error 5.97,  val loss 0.342354, percent error 11.10\n",
            "Epoch    22, train loss 0.211255, train error 7.65,  val loss 0.384496, percent error 12.20\n",
            "Epoch    23, train loss 0.169498, train error 5.50,  val loss 0.364226, percent error 11.50\n",
            "Epoch    24, train loss 0.158723, train error 5.18,  val loss 0.330177, percent error 10.90\n",
            "Epoch    25, train loss 0.156267, train error 5.07,  val loss 0.332525, percent error 10.80\n",
            "Epoch    26, train loss 0.137158, train error 4.28,  val loss 0.324583, percent error 10.80\n",
            "Epoch    27, train loss 0.171738, train error 6.05,  val loss 0.378835, percent error 12.70\n",
            "Epoch    28, train loss 0.127071, train error 4.18,  val loss 0.319121, percent error 10.70\n",
            "Epoch    29, train loss 0.121462, train error 3.78,  val loss 0.354800, percent error 11.00\n",
            "Epoch    30, train loss 0.128351, train error 4.40,  val loss 0.352168, percent error 10.60\n",
            "Epoch    31, train loss 0.138439, train error 5.05,  val loss 0.387979, percent error 11.60\n",
            "Epoch    32, train loss 0.126028, train error 4.10,  val loss 0.349082, percent error 11.40\n",
            "Epoch    33, train loss 0.122591, train error 4.00,  val loss 0.358746, percent error 11.00\n",
            "Epoch    34, train loss 0.109476, train error 3.97,  val loss 0.363667, percent error 10.70\n",
            "Epoch    35, train loss 0.099656, train error 3.20,  val loss 0.338901, percent error 10.70\n",
            "Epoch    36, train loss 0.113213, train error 3.90,  val loss 0.379055, percent error 10.80\n",
            "Epoch    37, train loss 0.114329, train error 4.10,  val loss 0.355747, percent error 11.40\n",
            "Epoch    38, train loss 0.159401, train error 6.12,  val loss 0.432291, percent error 11.70\n",
            "Epoch    39, train loss 0.094800, train error 2.90,  val loss 0.366327, percent error 10.60\n",
            "Epoch    40, train loss 0.073246, train error 2.12,  val loss 0.346761, percent error 10.50\n",
            "Epoch    41, train loss 0.070829, train error 2.07,  val loss 0.354927, percent error 9.70\n",
            "Epoch    42, train loss 0.066158, train error 1.75,  val loss 0.356694, percent error 10.20\n",
            "Epoch    43, train loss 0.070036, train error 1.82,  val loss 0.366539, percent error 10.50\n",
            "Epoch    44, train loss 0.065200, train error 1.82,  val loss 0.351896, percent error 10.00\n",
            "Epoch    45, train loss 0.063353, train error 1.65,  val loss 0.366908, percent error 10.40\n",
            "Epoch    46, train loss 0.062400, train error 1.55,  val loss 0.370492, percent error 10.40\n",
            "Epoch    47, train loss 0.068708, train error 2.00,  val loss 0.382295, percent error 10.80\n",
            "Epoch    48, train loss 0.066950, train error 1.97,  val loss 0.395217, percent error 10.40\n",
            "Epoch    49, train loss 0.061371, train error 1.82,  val loss 0.390258, percent error 10.90\n",
            "Epoch    50, train loss 0.059967, train error 1.65,  val loss 0.393439, percent error 11.40\n",
            "Epoch    51, train loss 0.056806, train error 1.60,  val loss 0.393548, percent error 10.80\n",
            "Epoch    52, train loss 0.056356, train error 1.47,  val loss 0.373787, percent error 9.60\n",
            "Epoch    53, train loss 0.051153, train error 1.07,  val loss 0.385904, percent error 9.90\n",
            "Epoch    54, train loss 0.048891, train error 1.07,  val loss 0.401679, percent error 10.50\n",
            "Epoch    55, train loss 0.055803, train error 1.38,  val loss 0.417701, percent error 11.30\n",
            "Epoch    56, train loss 0.052817, train error 1.60,  val loss 0.412613, percent error 11.50\n",
            "Epoch    57, train loss 0.050774, train error 1.30,  val loss 0.395086, percent error 10.30\n",
            "Epoch    58, train loss 0.048418, train error 1.25,  val loss 0.390951, percent error 10.20\n",
            "Epoch    59, train loss 0.046067, train error 1.00,  val loss 0.404785, percent error 10.40\n",
            "Epoch    60, train loss 0.042903, train error 0.95,  val loss 0.407280, percent error 10.50\n",
            "Epoch    61, train loss 0.040091, train error 0.82,  val loss 0.407645, percent error 10.50\n",
            "Epoch    62, train loss 0.040980, train error 0.85,  val loss 0.413892, percent error 10.20\n",
            "Epoch    63, train loss 0.040361, train error 0.75,  val loss 0.415242, percent error 10.70\n",
            "Epoch    64, train loss 0.040411, train error 0.75,  val loss 0.421017, percent error 9.80\n",
            "Epoch    65, train loss 0.039044, train error 0.72,  val loss 0.415470, percent error 10.60\n",
            "Epoch    66, train loss 0.037571, train error 0.65,  val loss 0.420679, percent error 10.60\n",
            "Epoch    67, train loss 0.041372, train error 0.93,  val loss 0.437095, percent error 10.70\n",
            "Epoch    68, train loss 0.040350, train error 0.80,  val loss 0.431039, percent error 10.20\n",
            "Epoch    69, train loss 0.037217, train error 0.68,  val loss 0.416495, percent error 10.60\n",
            "Epoch    70, train loss 0.036204, train error 0.60,  val loss 0.433282, percent error 10.40\n",
            "Epoch    71, train loss 0.036732, train error 0.72,  val loss 0.428248, percent error 10.50\n",
            "Epoch    72, train loss 0.037283, train error 0.62,  val loss 0.443334, percent error 10.10\n",
            "Epoch    73, train loss 0.035423, train error 0.60,  val loss 0.430248, percent error 10.40\n",
            "Epoch    74, train loss 0.033741, train error 0.55,  val loss 0.432236, percent error 10.60\n",
            "Epoch    75, train loss 0.035089, train error 0.68,  val loss 0.435407, percent error 10.60\n",
            "Epoch    76, train loss 0.033522, train error 0.55,  val loss 0.436450, percent error 10.60\n",
            "Epoch    77, train loss 0.033117, train error 0.57,  val loss 0.441851, percent error 10.50\n",
            "Epoch    78, train loss 0.032814, train error 0.62,  val loss 0.438559, percent error 10.60\n",
            "Epoch    79, train loss 0.033913, train error 0.55,  val loss 0.442245, percent error 10.70\n",
            "Epoch    80, train loss 0.031168, train error 0.45,  val loss 0.445934, percent error 10.30\n",
            "Epoch    81, train loss 0.030893, train error 0.45,  val loss 0.446519, percent error 10.20\n",
            "Epoch    82, train loss 0.030896, train error 0.47,  val loss 0.446324, percent error 10.70\n",
            "Epoch    83, train loss 0.030770, train error 0.45,  val loss 0.447239, percent error 10.60\n",
            "Epoch    84, train loss 0.030779, train error 0.45,  val loss 0.446346, percent error 10.80\n",
            "Epoch    85, train loss 0.030034, train error 0.45,  val loss 0.448170, percent error 10.70\n",
            "Epoch    86, train loss 0.030016, train error 0.40,  val loss 0.450213, percent error 10.60\n",
            "Epoch    87, train loss 0.030213, train error 0.45,  val loss 0.455450, percent error 10.80\n",
            "Epoch    88, train loss 0.029805, train error 0.43,  val loss 0.449708, percent error 10.70\n",
            "Epoch    89, train loss 0.029524, train error 0.43,  val loss 0.453496, percent error 10.60\n",
            "Epoch    90, train loss 0.029418, train error 0.47,  val loss 0.455862, percent error 10.60\n",
            "Epoch    91, train loss 0.029192, train error 0.40,  val loss 0.456306, percent error 10.40\n",
            "Epoch    92, train loss 0.028767, train error 0.43,  val loss 0.455190, percent error 10.60\n",
            "Epoch    93, train loss 0.028911, train error 0.45,  val loss 0.457426, percent error 10.70\n",
            "Epoch    94, train loss 0.028505, train error 0.35,  val loss 0.459799, percent error 10.40\n",
            "Epoch    95, train loss 0.029586, train error 0.45,  val loss 0.457296, percent error 11.20\n",
            "Epoch    96, train loss 0.029511, train error 0.45,  val loss 0.454979, percent error 11.00\n",
            "Epoch    97, train loss 0.028079, train error 0.32,  val loss 0.459801, percent error 10.40\n",
            "Epoch    98, train loss 0.027943, train error 0.40,  val loss 0.459994, percent error 10.80\n",
            "Epoch    99, train loss 0.028334, train error 0.38,  val loss 0.460626, percent error 10.80\n"
          ]
        },
        {
          "output_type": "display_data",
          "data": {
            "text/plain": [
              "<Figure size 640x480 with 1 Axes>"
            ],
            "image/png": "[encoded data removed]"
          },
          "metadata": {}
        }
      ]
    }
  ]
}